{
 "cells": [
  {
   "cell_type": "code",
   "execution_count": 1,
   "id": "8ba0a427-ff7e-4e66-84f6-ee2e629d4458",
   "metadata": {},
   "outputs": [],
   "source": [
    "import json\n",
    "import os\n",
    "import cv2\n",
    "with open('../data/target/test/annotations/annotations_test.json') as fp:\n",
    "    gt = json.load(fp)\n",
    "    \n",
    "\n",
    "with open('../result_ours.json') as fp:\n",
    "    root = json.load(fp)\n",
    "    \n",
    "for idx in range(len(root)):\n",
    "    pointer = root[idx][2]\n",
    "    digital = root[idx][3]\n",
    "    img_name = gt['images'][idx]['file_name']\n",
    "    img_path = os.path.join('../data/target/test/images',img_name)\n",
    "    img = cv2.imread(img_path)\n",
    "    for i in pointer:\n",
    "        x1, y1, x2, y2, score =  i\n",
    "        score = score*2\n",
    "        if score>1.0:\n",
    "            score=1.00000\n",
    "        if score>0.4:\n",
    "            cv2.rectangle(img, (int(x1),int(y1+10)), (int(x2), int(y2)), (0,0,255), 2)\n",
    "            cv2.putText(img, str(score)[0:4], (int(x1),int(y1)), cv2.FONT_HERSHEY_SIMPLEX, 0.5, (0, 0, 255), 2)\n",
    "    for j in digital:\n",
    "        x1, y1, x2, y2, score =  j\n",
    "        score = score*2\n",
    "        if score>1.0:\n",
    "            score=1.00000\n",
    "        if score>0.4:\n",
    "            cv2.rectangle(img, (int(x1),int(y1+10)), (int(x2), int(y2)), (0,255,0), 2)\n",
    "            cv2.putText(img, str(score)[0:4], (int(x1),int(y1)), cv2.FONT_HERSHEY_SIMPLEX, 0.5, (0,255,0), 2)\n",
    "    cv2.imwrite('/root/mmdetection/eval/imgs/meter_/'+img_name, img)\n",
    "\n"
   ]
  },
  {
   "cell_type": "code",
   "execution_count": 27,
   "id": "852891e6-8b2e-40d3-b0a6-44bd358072ac",
   "metadata": {},
   "outputs": [
    {
     "data": {
      "text/plain": [
       "[[307.39532470703125,\n",
       "  108.50225830078125,\n",
       "  510.3641357421875,\n",
       "  311.7805480957031,\n",
       "  0.9924495220184326],\n",
       " [1.7325439453125,\n",
       "  105.75569152832031,\n",
       "  205.23741149902344,\n",
       "  384.3193359375,\n",
       "  0.6210479736328125]]"
      ]
     },
     "execution_count": 27,
     "metadata": {},
     "output_type": "execute_result"
    }
   ],
   "source": [
    "pointer"
   ]
  },
  {
   "cell_type": "code",
   "execution_count": null,
   "id": "fa62a0ce-5485-47a1-907f-0a97cf632d5b",
   "metadata": {},
   "outputs": [],
   "source": []
  }
 ],
 "metadata": {
  "kernelspec": {
   "display_name": "Python 3 (ipykernel)",
   "language": "python",
   "name": "python3"
  },
  "language_info": {
   "codemirror_mode": {
    "name": "ipython",
    "version": 3
   },
   "file_extension": ".py",
   "mimetype": "text/x-python",
   "name": "python",
   "nbconvert_exporter": "python",
   "pygments_lexer": "ipython3",
   "version": "3.8.10"
  }
 },
 "nbformat": 4,
 "nbformat_minor": 5
}
